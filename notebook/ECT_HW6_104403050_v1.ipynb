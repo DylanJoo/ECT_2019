{
 "cells": [
  {
   "cell_type": "code",
   "execution_count": 247,
   "metadata": {},
   "outputs": [],
   "source": [
    "#Import the libraries.\n",
    "import pandas as pd\n",
    "import numpy as np\n",
    "from sklearn.cluster import KMeans\n",
    "from sklearn.neighbors import KNeighborsClassifier\n",
    "import matplotlib.pyplot as plt"
   ]
  },
  {
   "cell_type": "code",
   "execution_count": 248,
   "metadata": {},
   "outputs": [],
   "source": [
    "#read the data\n",
    "data = pd.read_csv('BreastCancer.csv')"
   ]
  },
  {
   "cell_type": "markdown",
   "metadata": {},
   "source": [
    "# Preprocessing\n",
    "\n",
    "1. No missing value, but a unnamed column and useless feature: ID\n",
    "2. Spliting the dataset into two.\n",
    "3. In this case, we only dicussed the two column feature.(area mean and radius meam)"
   ]
  },
  {
   "cell_type": "markdown",
   "metadata": {},
   "source": [
    "Q1-a"
   ]
  },
  {
   "cell_type": "code",
   "execution_count": 249,
   "metadata": {},
   "outputs": [],
   "source": [
    "#Drop some cols\n",
    "col = ['Unnamed: 32', 'id']\n",
    "data = data.drop(col, 1)\n",
    "data.isnull().any()\n",
    "\n",
    "#Divide into feature table and target label.\n",
    "x_ = data[['radius_mean', 'area_mean']]   #feature\n",
    "lbl_ = data['diagnosis']   #target"
   ]
  },
  {
   "cell_type": "markdown",
   "metadata": {},
   "source": [
    "Q1-b"
   ]
  },
  {
   "cell_type": "code",
   "execution_count": 250,
   "metadata": {},
   "outputs": [],
   "source": [
    "from sklearn.model_selection import train_test_split\n",
    "train_x, test_x, train_lbl, test_lbl = train_test_split(x_, lbl_, test_size = 0.34, random_state = 5)"
   ]
  },
  {
   "cell_type": "markdown",
   "metadata": {},
   "source": [
    "Q1-c"
   ]
  },
  {
   "cell_type": "code",
   "execution_count": 251,
   "metadata": {},
   "outputs": [
    {
     "data": {
      "text/plain": [
       "KNeighborsClassifier(algorithm='auto', leaf_size=30, metric='minkowski',\n",
       "           metric_params=None, n_jobs=None, n_neighbors=6, p=2,\n",
       "           weights='uniform')"
      ]
     },
     "execution_count": 251,
     "metadata": {},
     "output_type": "execute_result"
    }
   ],
   "source": [
    "knn = KNeighborsClassifier(6)\n",
    "knn.fit(train_x, train_lbl)"
   ]
  },
  {
   "cell_type": "markdown",
   "metadata": {},
   "source": [
    "Q1-d(Only acc)"
   ]
  },
  {
   "cell_type": "code",
   "execution_count": 252,
   "metadata": {},
   "outputs": [
    {
     "name": "stdout",
     "output_type": "stream",
     "text": [
      "Accuracy:  0.9175257731958762\n"
     ]
    }
   ],
   "source": [
    "from sklearn.metrics import accuracy_score\n",
    "pred1 = knn.predict(test_x)\n",
    "print('Accuracy: ', accuracy_score(test_lbl, pred1))"
   ]
  },
  {
   "cell_type": "markdown",
   "metadata": {},
   "source": [
    "Q1-e"
   ]
  },
  {
   "cell_type": "code",
   "execution_count": 253,
   "metadata": {},
   "outputs": [
    {
     "data": {
      "text/plain": [
       "<matplotlib.collections.PathCollection at 0x112dca5f8>"
      ]
     },
     "execution_count": 253,
     "metadata": {},
     "output_type": "execute_result"
    },
    {
     "data": {
      "image/png": "[encoded data removed]",
      "text/plain": [
       "<Figure size 432x288 with 1 Axes>"
      ]
     },
     "metadata": {
      "needs_background": "light"
     },
     "output_type": "display_data"
    }
   ],
   "source": [
    "#visualize the training set distribution of diagnosis. x represent radius\n",
    "plt.scatter(x = train_x['radius_mean'], y = train_x['area_mean'], c = train_lbl)"
   ]
  },
  {
   "cell_type": "markdown",
   "metadata": {},
   "source": [
    "Q1-f"
   ]
  },
  {
   "cell_type": "code",
   "execution_count": 254,
   "metadata": {},
   "outputs": [],
   "source": [
    "kmeans = KMeans(n_clusters = 2)"
   ]
  },
  {
   "cell_type": "markdown",
   "metadata": {},
   "source": [
    "Q1-g"
   ]
  },
  {
   "cell_type": "code",
   "execution_count": 255,
   "metadata": {},
   "outputs": [],
   "source": [
    "#fit the entire dataset and then do the prediction.\n",
    "pred2 = kmeans.fit_predict(x_)"
   ]
  },
  {
   "cell_type": "code",
   "execution_count": 256,
   "metadata": {},
   "outputs": [
    {
     "name": "stdout",
     "output_type": "stream",
     "text": [
      "Accuracy:  0.8383128295254832\n"
     ]
    }
   ],
   "source": [
    "#Assessment the model\n",
    "#Let's make an assumption here, assume that we could ONLY USE ACCURACY to be the criteria of discrimination ability.\n",
    "#\n",
    "def assessment(truth, pred):\n",
    "    coded_lbl = truth.replace({'M':0, 'B':1})  #cuz not sure about kmeans transformed M or B into '1'\n",
    "    acc1 = accuracy_score(coded_lbl, pred)\n",
    "    coded_lbl = truth.replace({'M':1, 'B':0})\n",
    "    acc2 = accuracy_score(coded_lbl, pred)\n",
    "    return max(acc1, acc2)\n",
    "\n",
    "print('Accuracy: ', assessment(lbl_, pred2))"
   ]
  },
  {
   "cell_type": "markdown",
   "metadata": {},
   "source": [
    "Q1-h"
   ]
  },
  {
   "cell_type": "code",
   "execution_count": 257,
   "metadata": {},
   "outputs": [
    {
     "data": {
      "text/plain": [
       "<matplotlib.collections.PathCollection at 0x111ee6fd0>"
      ]
     },
     "execution_count": 257,
     "metadata": {},
     "output_type": "execute_result"
    },
    {
     "data": {
      "image/png": "[encoded data removed]",
      "text/plain": [
       "<Figure size 432x288 with 1 Axes>"
      ]
     },
     "metadata": {
      "needs_background": "light"
     },
     "output_type": "display_data"
    }
   ],
   "source": [
    "#visualize the training set distribution of diagnosis. x represent radius\n",
    "plt.scatter(x = x_['radius_mean'], y = x_['area_mean'], c = pred2)"
   ]
  },
  {
   "cell_type": "markdown",
   "metadata": {},
   "source": [
    "Q1-i"
   ]
  },
  {
   "cell_type": "code",
   "execution_count": 258,
   "metadata": {},
   "outputs": [],
   "source": [
    "#get the outlier index array of the dataset\n",
    "out = x_['area_mean'] > 2000 #4 instances\n",
    "x_new = x_[~out]\n",
    "lbl_new = lbl_[~out]"
   ]
  },
  {
   "cell_type": "markdown",
   "metadata": {},
   "source": [
    "Q1-j(after eliminate the outlier)"
   ]
  },
  {
   "cell_type": "code",
   "execution_count": 259,
   "metadata": {},
   "outputs": [
    {
     "name": "stdout",
     "output_type": "stream",
     "text": [
      "Accuracy:  0.8860103626943006\n",
      "Accuracy:  0.8371681415929203\n"
     ]
    }
   ],
   "source": [
    "#Some configuration before re-model\n",
    "#I am not sure whether it is a best way to comapre two result\n",
    "train_nx, test_nx, train_nlbl, test_nlbl = train_test_split(x_new, lbl_new, test_size = 0.34, random_state = 5)\n",
    "\n",
    "#KNN\n",
    "knn = KNeighborsClassifier(6)\n",
    "knn.fit(train_nx, train_nlbl)\n",
    "pred3 = knn.predict(test_nx)\n",
    "print('Accuracy: ', accuracy_score(test_nlbl, pred3))\n",
    "\n",
    "#KMeans\n",
    "kmeans = KMeans(n_clusters = 2)\n",
    "pred4 = kmeans.fit_predict(x_new)\n",
    "print('Accuracy: ', assessment(lbl_new, pred4))"
   ]
  },
  {
   "cell_type": "markdown",
   "metadata": {},
   "source": [
    "A LITTLE BUG between these comparison\n",
    "\n",
    "'The origianl triaining set' is different from 'remove outlier training set', and so the training sets"
   ]
  }
 ],
 "metadata": {
  "kernelspec": {
   "display_name": "Python 3",
   "language": "python",
   "name": "python3"
  },
  "language_info": {
   "codemirror_mode": {
    "name": "ipython",
    "version": 3
   },
   "file_extension": ".py",
   "mimetype": "text/x-python",
   "name": "python",
   "nbconvert_exporter": "python",
   "pygments_lexer": "ipython3",
   "version": "3.7.0"
  }
 },
 "nbformat": 4,
 "nbformat_minor": 2
}
