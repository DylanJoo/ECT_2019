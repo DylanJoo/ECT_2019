{
 "cells": [
  {
   "cell_type": "code",
   "execution_count": 169,
   "metadata": {},
   "outputs": [],
   "source": [
    "import keras\n",
    "import tensorflow as tf\n",
    "import numpy as np\n",
    "import pandas as pd\n",
    "import matplotlib.pyplot as plt\n",
    "from keras.utils import np_utils\n",
    "\n",
    "from keras.models import Sequential\n",
    "from keras.layers import Dense, Flatten, Conv2D, MaxPooling2D\n",
    "from keras import losses"
   ]
  },
  {
   "cell_type": "code",
   "execution_count": 29,
   "metadata": {},
   "outputs": [],
   "source": [
    "#Preprocessing"
   ]
  },
  {
   "cell_type": "code",
   "execution_count": 68,
   "metadata": {},
   "outputs": [],
   "source": [
    "(x_train, lbl_train), (x_test, lbl_test) =  tf.keras.datasets.fashion_mnist.load_data()"
   ]
  },
  {
   "cell_type": "code",
   "execution_count": 56,
   "metadata": {},
   "outputs": [],
   "source": [
    "#Comdense the 28*28 into \n",
    "x_train = x_train / 255\n",
    "x_test = x_test / 255"
   ]
  },
  {
   "cell_type": "code",
   "execution_count": 71,
   "metadata": {},
   "outputs": [],
   "source": [
    "#Convert into required dimensionality, an image is represented in 28*28*1(depth) (3 means RGB or something else)\n",
    "x_train = x_train.reshape(x_train.shape[0], 28, 28, 1).astype('float32')\n",
    "x_test = x_test.reshape(x_test.shape[0], 28, 28, 1).astype('float32')\n",
    "\n",
    "#One-hot encoding: labels(get dummies in pandas)\n",
    "lbl_train = np_utils.to_categorical(lbl_train)\n",
    "lbl_test = np_utils.to_categorical(lbl_test)\n",
    "\n",
    "#lblname = [\"top\", \"trouser\", \"pullover\", \"dress\", \"coat\",\"sandal\", \"shirt\", \"sneaker\", \"bag\", \"ankle boot\"]"
   ]
  },
  {
   "cell_type": "code",
   "execution_count": 83,
   "metadata": {},
   "outputs": [
    {
     "data": {
      "image/png": "[encoded data removed]",
      "text/plain": [
       "<Figure size 432x288 with 2 Axes>"
      ]
     },
     "metadata": {
      "needs_background": "light"
     },
     "output_type": "display_data"
    }
   ],
   "source": [
    "#VIew the figure(first item)\n",
    "plt.figure()\n",
    "plt.imshow(np.squeeze(x_train[0]))\n",
    "#including this parameter could chage color to black or white related--> cmap=plt.cm.binary\n",
    "#matplotlib drawing the picture with the pixel value automatically\n",
    "plt.colorbar() \n",
    "plt.show()"
   ]
  },
  {
   "cell_type": "code",
   "execution_count": 30,
   "metadata": {},
   "outputs": [],
   "source": [
    "#Modeling"
   ]
  },
  {
   "cell_type": "code",
   "execution_count": 142,
   "metadata": {},
   "outputs": [],
   "source": [
    "model = Sequential()\n",
    "\n",
    "#1st CONV + POOLING\n",
    "model.add(Conv2D(32,  #output 32 neuron\n",
    "                 kernel_size = (3, 3),\n",
    "                 activation = 'relu',\n",
    "                 input_shape = (28, 28, 1))) #Default channel-last. output dim = 28 - 3 + 1 = 26\n",
    "model.add(MaxPooling2D(pool_size = (2, 2)))\n",
    "\n",
    "#2nd CONV + POOLING\n",
    "model.add(Conv2D(64,  #output 64 neuron\n",
    "                 kernel_size = (3, 3),\n",
    "                 activation = 'relu'))\n",
    "model.add(MaxPooling2D(pool_size = (2, 2)))\n",
    "\n",
    "#3rd CONV + POOLING\n",
    "model.add(Conv2D(128,  #output 64 neuron\n",
    "                 kernel_size = (3, 3),\n",
    "                 activation = 'relu'))\n",
    "model.add(MaxPooling2D(pool_size = (2, 2)))\n",
    "\n",
    "model.add(Flatten())\n",
    "model.add(Dense(128, activation = 'relu'))\n",
    "model.add(Dense(10, activation = 'softmax'))"
   ]
  },
  {
   "cell_type": "code",
   "execution_count": 143,
   "metadata": {},
   "outputs": [],
   "source": [
    "model.compile(\n",
    "              loss = 'categorical_crossentropy',\n",
    "              optimizer = 'adam',\n",
    "              metrics = ['accuracy'])"
   ]
  },
  {
   "cell_type": "code",
   "execution_count": 144,
   "metadata": {},
   "outputs": [
    {
     "name": "stdout",
     "output_type": "stream",
     "text": [
      "_________________________________________________________________\n",
      "Layer (type)                 Output Shape              Param #   \n",
      "=================================================================\n",
      "conv2d_25 (Conv2D)           (None, 26, 26, 32)        320       \n",
      "_________________________________________________________________\n",
      "max_pooling2d_24 (MaxPooling (None, 13, 13, 32)        0         \n",
      "_________________________________________________________________\n",
      "conv2d_26 (Conv2D)           (None, 11, 11, 64)        18496     \n",
      "_________________________________________________________________\n",
      "max_pooling2d_25 (MaxPooling (None, 5, 5, 64)          0         \n",
      "_________________________________________________________________\n",
      "conv2d_27 (Conv2D)           (None, 3, 3, 128)         73856     \n",
      "_________________________________________________________________\n",
      "max_pooling2d_26 (MaxPooling (None, 1, 1, 128)         0         \n",
      "_________________________________________________________________\n",
      "flatten_11 (Flatten)         (None, 128)               0         \n",
      "_________________________________________________________________\n",
      "dense_21 (Dense)             (None, 128)               16512     \n",
      "_________________________________________________________________\n",
      "dense_22 (Dense)             (None, 10)                1290      \n",
      "=================================================================\n",
      "Total params: 110,474\n",
      "Trainable params: 110,474\n",
      "Non-trainable params: 0\n",
      "_________________________________________________________________\n"
     ]
    }
   ],
   "source": [
    "model.summary()"
   ]
  },
  {
   "cell_type": "code",
   "execution_count": 151,
   "metadata": {},
   "outputs": [
    {
     "name": "stdout",
     "output_type": "stream",
     "text": [
      "Train on 54000 samples, validate on 6000 samples\n",
      "Epoch 1/10\n",
      "54000/54000 [==============================] - 26s 481us/step - loss: 0.3235 - acc: 0.8804 - val_loss: 0.3506 - val_acc: 0.8735\n",
      "Epoch 2/10\n",
      "54000/54000 [==============================] - 26s 479us/step - loss: 0.3016 - acc: 0.8872 - val_loss: 0.3726 - val_acc: 0.8705\n",
      "Epoch 3/10\n",
      "54000/54000 [==============================] - 26s 485us/step - loss: 0.2827 - acc: 0.8931 - val_loss: 0.3695 - val_acc: 0.8672\n",
      "Epoch 4/10\n",
      "54000/54000 [==============================] - 26s 488us/step - loss: 0.2702 - acc: 0.8978 - val_loss: 0.3802 - val_acc: 0.8715\n",
      "Epoch 5/10\n",
      "54000/54000 [==============================] - 26s 487us/step - loss: 0.2542 - acc: 0.9052 - val_loss: 0.3537 - val_acc: 0.8728\n",
      "Epoch 6/10\n",
      "54000/54000 [==============================] - 27s 494us/step - loss: 0.2431 - acc: 0.9078 - val_loss: 0.3610 - val_acc: 0.8767\n",
      "Epoch 7/10\n",
      "54000/54000 [==============================] - 27s 502us/step - loss: 0.2316 - acc: 0.9128 - val_loss: 0.3721 - val_acc: 0.8782\n",
      "Epoch 8/10\n",
      "54000/54000 [==============================] - 27s 497us/step - loss: 0.2240 - acc: 0.9144 - val_loss: 0.3628 - val_acc: 0.8787\n",
      "Epoch 9/10\n",
      "54000/54000 [==============================] - 27s 500us/step - loss: 0.2146 - acc: 0.9187 - val_loss: 0.3772 - val_acc: 0.8792\n",
      "Epoch 10/10\n",
      "54000/54000 [==============================] - 27s 508us/step - loss: 0.2102 - acc: 0.9203 - val_loss: 0.4180 - val_acc: 0.8773\n"
     ]
    }
   ],
   "source": [
    "train_model = model.fit(x_train, lbl_train,\n",
    "                  epochs = 10,\n",
    "                  verbose = 1,\n",
    "                  validation_split = 0.1)"
   ]
  },
  {
   "cell_type": "code",
   "execution_count": 152,
   "metadata": {},
   "outputs": [
    {
     "data": {
      "image/png": "[encoded data removed]",
      "text/plain": [
       "<Figure size 432x288 with 1 Axes>"
      ]
     },
     "metadata": {
      "needs_background": "light"
     },
     "output_type": "display_data"
    },
    {
     "data": {
      "image/png": "[encoded data removed]",
      "text/plain": [
       "<Figure size 432x288 with 1 Axes>"
      ]
     },
     "metadata": {
      "needs_background": "light"
     },
     "output_type": "display_data"
    }
   ],
   "source": [
    "#VIew the training history\n",
    "\n",
    "def show_train_history(trainh, train, val):\n",
    "    plt.plot(trainh.history[train])\n",
    "    plt.plot(trainh.history[val])\n",
    "    plt.title('Train History')\n",
    "    plt.xlabel('Train')\n",
    "    plt.ylabel('Epoch')\n",
    "    plt.legend(['train', 'validation'], loc = 'center right')\n",
    "    plt.show()\n",
    "\n",
    "show_train_history(train_model, 'acc', 'val_acc')\n",
    "show_train_history(train_model, 'loss', 'val_loss')"
   ]
  },
  {
   "cell_type": "code",
   "execution_count": 175,
   "metadata": {},
   "outputs": [
    {
     "name": "stdout",
     "output_type": "stream",
     "text": [
      "10000/10000 [==============================] - 2s 153us/step\n"
     ]
    }
   ],
   "source": [
    "prediction = model.predict(x_test, verbose = 1)"
   ]
  },
  {
   "cell_type": "code",
   "execution_count": 176,
   "metadata": {},
   "outputs": [
    {
     "name": "stdout",
     "output_type": "stream",
     "text": [
      "0.8733\n"
     ]
    }
   ],
   "source": [
    "#Prediction and truth matrix\n",
    "from sklearn.metrics import confusion_matrix\n",
    "from sklearn.metrics import accuracy_score\n",
    "\n",
    "prediction = np.argmax(prediction, axis = 1)\n",
    "reverse_lbl_test = np.argmax(lbl_test, axis = 1)\n",
    "\n",
    "#Print it, uh...plain text is ugly.....so let's check out in pandas.\n",
    "pd.DataFrame(confusion_matrix(reverse_lbl_test, prediction))\n",
    "print(accuracy_score(reverse_lbl_test, prediction))"
   ]
  }
 ],
 "metadata": {
  "kernelspec": {
   "display_name": "Python 3",
   "language": "python",
   "name": "python3"
  },
  "language_info": {
   "codemirror_mode": {
    "name": "ipython",
    "version": 3
   },
   "file_extension": ".py",
   "mimetype": "text/x-python",
   "name": "python",
   "nbconvert_exporter": "python",
   "pygments_lexer": "ipython3",
   "version": "3.7.0"
  }
 },
 "nbformat": 4,
 "nbformat_minor": 2
}
